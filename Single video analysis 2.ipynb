{
 "cells": [
  {
   "cell_type": "markdown",
   "metadata": {},
   "source": [
    "## Update from the meeting on 09/17/2018 by Adewale Obadimu (Toxicity)"
   ]
  },
  {
   "cell_type": "markdown",
   "metadata": {},
   "source": [
    "#### CODE\n"
   ]
  },
  {
   "cell_type": "markdown",
   "metadata": {},
   "source": [
    " Read the data"
   ]
  },
  {
   "cell_type": "code",
   "execution_count": 36,
   "metadata": {},
   "outputs": [],
   "source": [
    "import matplotlib.pyplot as plt\n",
    "\n",
    "import json\n",
    "\n",
    "with open('data.json') as f:\n",
    "     data_unsorted = json.load(f)\n",
    "\n",
    "data = sorted(data_unsorted, key=lambda k: k['published_date'])\n"
   ]
  },
  {
   "cell_type": "markdown",
   "metadata": {},
   "source": [
    "Calculate average distance "
   ]
  },
  {
   "cell_type": "code",
   "execution_count": 37,
   "metadata": {},
   "outputs": [
    {
     "name": "stdout",
     "output_type": "stream",
     "text": [
      "Testing the average distance: 18.0\n"
     ]
    }
   ],
   "source": [
    "def calc_avg_dist(bin_list):\n",
    "    dists = [x - bin_list[i - 1] for i, x in enumerate(bin_list)][1:]\n",
    "    avg_dist = round( ( sum(dists) / len(dists) ) , 2)\n",
    "    return avg_dist\n",
    "print(\"Testing the average distance:\", calc_avg_dist([14, 20, 50])) \n"
   ]
  },
  {
   "cell_type": "markdown",
   "metadata": {},
   "source": [
    "Bin the video into ten categories "
   ]
  },
  {
   "cell_type": "code",
   "execution_count": 38,
   "metadata": {},
   "outputs": [],
   "source": [
    "bin1, bin2, bin3, bin4, bin5, bin6, bin7, bin8, bin9, bin10 = (\n",
    "    [] for i in range(10))\n"
   ]
  },
  {
   "cell_type": "markdown",
   "metadata": {},
   "source": [
    "Assign members to bins based on their toxicity score"
   ]
  },
  {
   "cell_type": "code",
   "execution_count": 39,
   "metadata": {
    "scrolled": true
   },
   "outputs": [
    {
     "name": "stdout",
     "output_type": "stream",
     "text": [
      "The total number of comments in this video is  80\n"
     ]
    }
   ],
   "source": [
    "for count, x in enumerate(data):\n",
    "    if round(x['comment_toxicity'], 1) <= 0.1:\n",
    "        bin1.append(count)\n",
    "    elif round(x['comment_toxicity'], 1) <= 0.2:\n",
    "        bin2.append(count)\n",
    "    elif round(x['comment_toxicity'], 1) <= 0.3:\n",
    "        bin3.append(count)\n",
    "    elif round(x['comment_toxicity'], 1) <= 0.4:\n",
    "        bin4.append(count)\n",
    "    elif round(x['comment_toxicity'], 1) <= 0.5:\n",
    "        bin5.append(count)\n",
    "    elif round(x['comment_toxicity'], 1) <= 0.6:\n",
    "        bin6.append(count)\n",
    "    elif round(x['comment_toxicity'], 1) <= 0.7:\n",
    "        bin7.append(count)\n",
    "    elif round(x['comment_toxicity'], 1) <= 0.8:\n",
    "        bin8.append(count)\n",
    "    elif round(x['comment_toxicity'], 1) <= 0.9:\n",
    "        bin9.append(count)\n",
    "    else:\n",
    "        bin10.append(count)\n",
    "\n",
    "# print out the bins here like : \n",
    "print(\"The total number of comments in this video is \", count)"
   ]
  },
  {
   "cell_type": "markdown",
   "metadata": {},
   "source": [
    "Display the content of each bins"
   ]
  },
  {
   "cell_type": "code",
   "execution_count": 40,
   "metadata": {},
   "outputs": [
    {
     "name": "stdout",
     "output_type": "stream",
     "text": [
      "\n",
      "Elements in the first bins are: \n",
      "[1, 3, 4, 6, 7, 8, 10, 19, 32, 34, 42, 51, 52, 57, 63, 65, 66, 69, 70, 71, 72, 79, 80]\n",
      "\n",
      "Elements in the second bins are: \n",
      "[13, 30, 45, 47, 55, 56, 61, 62]\n",
      "\n",
      "Elements in the third bins are: \n",
      "[12, 16, 21, 33, 43]\n",
      "\n",
      "Elements in the fourth bins are: \n",
      "[24, 25, 27, 28, 38, 39, 41, 46, 54, 59, 60, 74]\n",
      "\n",
      "Elements in the fifth bins are: \n",
      "[35, 49, 67, 75]\n",
      "\n",
      "Elements in the sixth bins are: \n",
      "[5, 15, 18, 26, 31, 37, 48, 76]\n",
      "\n",
      "\n",
      "Elements in the seventh bins are: \n",
      "[14, 20, 50]\n",
      "\n",
      "Elements in the eight bins are: \n",
      "[0, 2, 11, 22, 29, 40, 44]\n",
      "\n",
      "Elements in the ninth bins are: \n",
      "[68, 73, 78]\n",
      "\n",
      "Elements in the tenth bins are: \n",
      "[9, 17, 23, 36, 53, 58, 64, 77]\n",
      "\n"
     ]
    }
   ],
   "source": [
    "print()\n",
    "print(\"Elements in the first bins are: \")\n",
    "print(bin1)\n",
    "\n",
    "print()\n",
    "print(\"Elements in the second bins are: \")\n",
    "print(bin2)\n",
    "print()\n",
    "print(\"Elements in the third bins are: \")\n",
    "print(bin3)\n",
    "print()\n",
    "print(\"Elements in the fourth bins are: \")\n",
    "print(bin4)\n",
    "print()\n",
    "print(\"Elements in the fifth bins are: \")\n",
    "print(bin5)\n",
    "print()\n",
    "print(\"Elements in the sixth bins are: \")\n",
    "print(bin6)\n",
    "print()\n",
    "print()\n",
    "print(\"Elements in the seventh bins are: \")\n",
    "print(bin7)\n",
    "print()\n",
    "print(\"Elements in the eight bins are: \")\n",
    "print(bin8)\n",
    "print()\n",
    "print(\"Elements in the ninth bins are: \")\n",
    "print(bin9)\n",
    "print()\n",
    "print(\"Elements in the tenth bins are: \")\n",
    "print(bin10)\n",
    "print()"
   ]
  },
  {
   "cell_type": "markdown",
   "metadata": {},
   "source": [
    "Calculate average distances for each bins"
   ]
  },
  {
   "cell_type": "code",
   "execution_count": 41,
   "metadata": {},
   "outputs": [
    {
     "name": "stdout",
     "output_type": "stream",
     "text": [
      "Calculating average distances for each bin...\n",
      "{'bin1': 3.59, 'bin2': 7.0, 'bin3': 7.75, 'bin4': 4.55, 'bin5': 13.33, 'bin6': 10.14, 'bin7': 18.0, 'bin8': 7.33, 'bin9': 5.0, 'bin10': 9.71}\n"
     ]
    }
   ],
   "source": [
    "print('Calculating average distances for each bin...')\n",
    "distances = {\n",
    "    'bin1'  : calc_avg_dist(bin1),\n",
    "    'bin2'  : calc_avg_dist(bin2),\n",
    "    'bin3'  : calc_avg_dist(bin3),\n",
    "    'bin4'  : calc_avg_dist(bin4),\n",
    "    'bin5'  : calc_avg_dist(bin5),\n",
    "    'bin6'  : calc_avg_dist(bin6),\n",
    "    'bin7'  : calc_avg_dist(bin7),\n",
    "    'bin8'  : calc_avg_dist(bin8),\n",
    "    'bin9'  : calc_avg_dist(bin9),\n",
    "    'bin10' : calc_avg_dist(bin10)\n",
    "}\n",
    "\n",
    "print(distances)"
   ]
  },
  {
   "cell_type": "code",
   "execution_count": 42,
   "metadata": {},
   "outputs": [],
   "source": [
    "distance = [calc_avg_dist(bin1), calc_avg_dist(bin2), calc_avg_dist(bin3), calc_avg_dist(bin3), calc_avg_dist(bin4), calc_avg_dist(bin5), calc_avg_dist(bin6), calc_avg_dist(bin8), calc_avg_dist(bin9), calc_avg_dist(bin10)]"
   ]
  },
  {
   "cell_type": "code",
   "execution_count": 43,
   "metadata": {},
   "outputs": [
    {
     "name": "stdout",
     "output_type": "stream",
     "text": [
      "23\n",
      "8\n",
      "5\n",
      "12\n",
      "4\n",
      "8\n",
      "3\n",
      "7\n",
      "3\n",
      "8\n"
     ]
    }
   ],
   "source": [
    "len1 = print(len(bin1))\n",
    "bin2 =  print(len(bin2))\n",
    "bin3 =  print(len(bin3))\n",
    "bin4 =  print(len(bin4))\n",
    "bin5 =  print(len(bin5))\n",
    "bin6 =  print(len(bin6))\n",
    "bin7 =  print(len(bin7))\n",
    "bin8 =  print(len(bin8))\n",
    "bin9 =  print(len(bin9))\n",
    "bin10 =  print(len(bin10))\n"
   ]
  },
  {
   "cell_type": "markdown",
   "metadata": {},
   "source": [
    "# RESULT"
   ]
  },
  {
   "cell_type": "code",
   "execution_count": 45,
   "metadata": {},
   "outputs": [
    {
     "data": {
      "image/png": "[encoded data removed]",
      "text/plain": [
       "<matplotlib.figure.Figure at 0x2206a2685c0>"
      ]
     },
     "metadata": {},
     "output_type": "display_data"
    }
   ],
   "source": [
    "import matplotlib.pyplot as plt\n",
    "import numpy as np\n",
    "import pandas as pd\n",
    "from io import StringIO\n",
    "s = StringIO(\"\"\"Toxicity     BinSize     AverageDistance\n",
    "Bin1   23  3.59\n",
    "Bin2   8   7.0\n",
    "Bin3   5   7.75\n",
    "Bin4   12  4.55\n",
    "Bin5   4   13.33\n",
    "Bin6   8   10.14\n",
    "Bin7   3   18.0\n",
    "Bin8   7   7.33\n",
    "Bin9   3   5.0\n",
    "Bin10  8   9.71\n",
    "\n",
    "\"\"\")\n",
    "df = pd.read_csv(s, index_col=0, delimiter=' ', skipinitialspace=True)\n",
    "\n",
    "fig = plt.figure() # Create matplotlib figure\n",
    "\n",
    "ax = fig.add_subplot(111) # Create matplotlib axes\n",
    "ax2 = ax.twinx() # Create another axes that shares the same x-axis as ax.\n",
    "\n",
    "width = 0.4\n",
    "\n",
    "df.BinSize.plot(kind='bar', color='red', ax=ax, width=width, position=1)\n",
    "df.AverageDistance.plot(kind='bar', color='blue', ax=ax2, width=width, position=0)\n",
    "\n",
    "ax.set_ylabel('Bin size')\n",
    "ax2.set_ylabel('Average distance')\n",
    "\n",
    "plt.show()"
   ]
  },
  {
   "cell_type": "markdown",
   "metadata": {},
   "source": [
    "#### Inference and next steps"
   ]
  },
  {
   "cell_type": "markdown",
   "metadata": {},
   "source": [
    "The **_average distance_** (also known as the _sliding window_) is defined as the cummulative average between pairs of comments in a temporal order. For instance, if we have comments in the 14th, 20th and 50th positions of a specific bin. Then the sliding window is computed as ((20-14)+(50-20))/2 = **18**. (_2 is the number of pairs_ )\n",
    "\n",
    "The **_bin size_** is the total number of comments in a specific bin. For instance, considering the example above containing comments at the 14th, 20th and 50th positions, respectively, the bin size will be **3**.\n",
    "\n",
    "\n",
    "For this video, we can see that the average distance between each elements in Bin1 is low (_i.e., 3.59_), this suggests the presence of high cohesion between low toxic comments. In general, the lower the bin size (bin5,bin6,..,bin10), the higher the average distance, which suggests that toxicity is not contagious for this video (_This is what I think_).\n",
    "\n",
    "*Since this is a conspiracy video, the low toxic commenters could be trying to debunk some of the toxic claims.*\n",
    "\n",
    "**Next steps**\n",
    "Perform similar analysis for the top 30 videos (with highest comments in the dataset).\n",
    "\n"
   ]
  }
 ],
 "metadata": {
  "kernelspec": {
   "display_name": "Python 3",
   "language": "python",
   "name": "python3"
  },
  "language_info": {
   "codemirror_mode": {
    "name": "ipython",
    "version": 3
   },
   "file_extension": ".py",
   "mimetype": "text/x-python",
   "name": "python",
   "nbconvert_exporter": "python",
   "pygments_lexer": "ipython3",
   "version": "3.6.4"
  }
 },
 "nbformat": 4,
 "nbformat_minor": 2
}
