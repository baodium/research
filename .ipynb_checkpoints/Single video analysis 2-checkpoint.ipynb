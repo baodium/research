{
 "cells": [
  {
   "cell_type": "markdown",
   "metadata": {},
   "source": [
    "## Update from the meeting on 05/19/2018 by Adewale Obadimu (Toxicity)"
   ]
  },
  {
   "cell_type": "markdown",
   "metadata": {},
   "source": [
    "#### STEPS"
   ]
  },
  {
   "cell_type": "markdown",
   "metadata": {},
   "source": [
    "1) Select one of the video"
   ]
  },
  {
   "cell_type": "markdown",
   "metadata": {},
   "source": [
    "2) Obtain the toxicity using the perspective API\n"
   ]
  },
  {
   "cell_type": "markdown",
   "metadata": {},
   "source": [
    "3) Sort the comment by DateTime\n"
   ]
  },
  {
   "cell_type": "markdown",
   "metadata": {},
   "source": [
    "4) Bin the video into ten categories\n"
   ]
  },
  {
   "cell_type": "markdown",
   "metadata": {},
   "source": [
    "5) Calculate the average distance in the bins\n"
   ]
  },
  {
   "cell_type": "markdown",
   "metadata": {},
   "source": [
    "#### CODE\n"
   ]
  },
  {
   "cell_type": "markdown",
   "metadata": {},
   "source": [
    " Read the data"
   ]
  },
  {
   "cell_type": "code",
   "execution_count": 10,
   "metadata": {},
   "outputs": [],
   "source": [
    "import matplotlib.pyplot as plt\n",
    "\n",
    "import json\n",
    "\n",
    "with open('data.json') as f:\n",
    "     data_unsorted = json.load(f)\n",
    "\n",
    "data = sorted(data_unsorted, key=lambda k: k['published_date'])\n"
   ]
  },
  {
   "cell_type": "markdown",
   "metadata": {},
   "source": [
    "Calculate average distance "
   ]
  },
  {
   "cell_type": "code",
   "execution_count": 11,
   "metadata": {},
   "outputs": [
    {
     "name": "stdout",
     "output_type": "stream",
     "text": [
      "Testing the average distance: 24.0\n"
     ]
    }
   ],
   "source": [
    "def calc_avg_dist(bin_list):\n",
    "    dists = []\n",
    "    for a in bin_list:\n",
    "        for b in bin_list:\n",
    "            if (a != b):\n",
    "                dist = abs(b - a)\n",
    "                dists.append(dist)\n",
    "    avg_dist = round( ( sum(dists) / len(dists) ) , 2)\n",
    "    return avg_dist\n",
    "\n",
    "print(\"Testing the average distance:\", calc_avg_dist([14, 20, 50])) \n",
    "\n",
    "[13, 30, 45, 47, 55, 56, 61, 62]"
   ]
  },
  {
   "cell_type": "markdown",
   "metadata": {},
   "source": [
    "Bin the video into ten categories "
   ]
  },
  {
   "cell_type": "code",
   "execution_count": 3,
   "metadata": {},
   "outputs": [],
   "source": [
    "bin1, bin2, bin3, bin4, bin5, bin6, bin7, bin8, bin9, bin10 = (\n",
    "    [] for i in range(10))\n"
   ]
  },
  {
   "cell_type": "markdown",
   "metadata": {},
   "source": [
    "Assign members to bins based on their toxicity score"
   ]
  },
  {
   "cell_type": "code",
   "execution_count": 4,
   "metadata": {
    "scrolled": true
   },
   "outputs": [
    {
     "name": "stdout",
     "output_type": "stream",
     "text": [
      "The total number of comments in this video is  80\n"
     ]
    }
   ],
   "source": [
    "for count, x in enumerate(data):\n",
    "    if round(x['comment_toxicity'], 1) <= 0.1:\n",
    "        bin1.append(count)\n",
    "    elif round(x['comment_toxicity'], 1) <= 0.2:\n",
    "        bin2.append(count)\n",
    "    elif round(x['comment_toxicity'], 1) <= 0.3:\n",
    "        bin3.append(count)\n",
    "    elif round(x['comment_toxicity'], 1) <= 0.4:\n",
    "        bin4.append(count)\n",
    "    elif round(x['comment_toxicity'], 1) <= 0.5:\n",
    "        bin5.append(count)\n",
    "    elif round(x['comment_toxicity'], 1) <= 0.6:\n",
    "        bin6.append(count)\n",
    "    elif round(x['comment_toxicity'], 1) <= 0.7:\n",
    "        bin7.append(count)\n",
    "    elif round(x['comment_toxicity'], 1) <= 0.8:\n",
    "        bin8.append(count)\n",
    "    elif round(x['comment_toxicity'], 1) <= 0.9:\n",
    "        bin9.append(count)\n",
    "    else:\n",
    "        bin10.append(count)\n",
    "\n",
    "# print out the bins here like : \n",
    "print(\"The total number of comments in this video is \", count)"
   ]
  },
  {
   "cell_type": "markdown",
   "metadata": {},
   "source": [
    "Display the content of each bins"
   ]
  },
  {
   "cell_type": "code",
   "execution_count": 5,
   "metadata": {},
   "outputs": [
    {
     "name": "stdout",
     "output_type": "stream",
     "text": [
      "\n",
      "Elements in the first bins are: \n",
      "[1, 3, 4, 6, 7, 8, 10, 19, 32, 34, 42, 51, 52, 57, 63, 65, 66, 69, 70, 71, 72, 79, 80]\n",
      "\n",
      "Elements in the second bins are: \n",
      "[13, 30, 45, 47, 55, 56, 61, 62]\n",
      "\n",
      "Elements in the third bins are: \n",
      "[12, 16, 21, 33, 43]\n",
      "\n",
      "Elements in the fourth bins are: \n",
      "[24, 25, 27, 28, 38, 39, 41, 46, 54, 59, 60, 74]\n",
      "\n",
      "Elements in the fifth bins are: \n",
      "[35, 49, 67, 75]\n",
      "\n",
      "Elements in the sixth bins are: \n",
      "[5, 15, 18, 26, 31, 37, 48, 76]\n",
      "\n",
      "\n",
      "Elements in the seventh bins are: \n",
      "[14, 20, 50]\n",
      "\n",
      "Elements in the eight bins are: \n",
      "[0, 2, 11, 22, 29, 40, 44]\n",
      "\n",
      "Elements in the ninth bins are: \n",
      "[68, 73, 78]\n",
      "\n",
      "Elements in the tenth bins are: \n",
      "[9, 17, 23, 36, 53, 58, 64, 77]\n",
      "\n"
     ]
    },
    {
     "data": {
      "text/plain": [
       "<matplotlib.axes._subplots.AxesSubplot at 0x23973b6e518>"
      ]
     },
     "execution_count": 5,
     "metadata": {},
     "output_type": "execute_result"
    },
    {
     "data": {
      "image/png": "[encoded data removed]",
      "text/plain": [
       "<matplotlib.figure.Figure at 0x239724e9668>"
      ]
     },
     "metadata": {},
     "output_type": "display_data"
    }
   ],
   "source": [
    "import seaborn as sns\n",
    "sns.set_style('darkgrid')\n",
    "\n",
    "print()\n",
    "print(\"Elements in the first bins are: \")\n",
    "print(bin1)\n",
    "sns.set_style('darkgrid')\n",
    "sns.kdeplot(bin1, shade=True, color='g')\n",
    "print()\n",
    "print(\"Elements in the second bins are: \")\n",
    "print(bin2)\n",
    "print()\n",
    "print(\"Elements in the third bins are: \")\n",
    "print(bin3)\n",
    "print()\n",
    "print(\"Elements in the fourth bins are: \")\n",
    "print(bin4)\n",
    "print()\n",
    "print(\"Elements in the fifth bins are: \")\n",
    "print(bin5)\n",
    "sns.kdeplot(bin5, shade=True, color='b')\n",
    "print()\n",
    "print(\"Elements in the sixth bins are: \")\n",
    "print(bin6)\n",
    "print()\n",
    "print()\n",
    "print(\"Elements in the seventh bins are: \")\n",
    "print(bin7)\n",
    "print()\n",
    "print(\"Elements in the eight bins are: \")\n",
    "print(bin8)\n",
    "print()\n",
    "print(\"Elements in the ninth bins are: \")\n",
    "print(bin9)\n",
    "print()\n",
    "print(\"Elements in the tenth bins are: \")\n",
    "print(bin10)\n",
    "print()\n",
    "sns.kdeplot(bin10, shade=True, color='r')"
   ]
  },
  {
   "cell_type": "markdown",
   "metadata": {},
   "source": [
    "Calculate average distances for each bins"
   ]
  },
  {
   "cell_type": "code",
   "execution_count": 6,
   "metadata": {},
   "outputs": [
    {
     "name": "stdout",
     "output_type": "stream",
     "text": [
      "Calculating average distances for each bin...\n",
      "{'bin1': 33.05, 'bin2': 19.25, 'bin3': 15.8, 'bin4': 18.86, 'bin5': 23.0, 'bin6': 25.86, 'bin7': 24.0, 'bin8': 21.52, 'bin9': 6.67, 'bin10': 29.75}\n"
     ]
    }
   ],
   "source": [
    "print('Calculating average distances for each bin...')\n",
    "distances = {\n",
    "    'bin1'  : calc_avg_dist(bin1),\n",
    "    'bin2'  : calc_avg_dist(bin2),\n",
    "    'bin3'  : calc_avg_dist(bin3),\n",
    "    'bin4'  : calc_avg_dist(bin4),\n",
    "    'bin5'  : calc_avg_dist(bin5),\n",
    "    'bin6'  : calc_avg_dist(bin6),\n",
    "    'bin7'  : calc_avg_dist(bin7),\n",
    "    'bin8'  : calc_avg_dist(bin8),\n",
    "    'bin9'  : calc_avg_dist(bin9),\n",
    "    'bin10' : calc_avg_dist(bin10)\n",
    "}\n",
    "\n",
    "print(distances)"
   ]
  },
  {
   "cell_type": "code",
   "execution_count": 7,
   "metadata": {},
   "outputs": [
    {
     "data": {
      "text/plain": [
       "<matplotlib.axes._subplots.AxesSubplot at 0x2397153cc18>"
      ]
     },
     "execution_count": 7,
     "metadata": {},
     "output_type": "execute_result"
    },
    {
     "data": {
      "image/png": "[encoded data removed]",
      "text/plain": [
       "<matplotlib.figure.Figure at 0x239724e9da0>"
      ]
     },
     "metadata": {},
     "output_type": "display_data"
    }
   ],
   "source": [
    "distance = [calc_avg_dist(bin1), calc_avg_dist(bin2), calc_avg_dist(bin3), calc_avg_dist(bin3), calc_avg_dist(bin4), calc_avg_dist(bin5), calc_avg_dist(bin6), calc_avg_dist(bin8), calc_avg_dist(bin9), calc_avg_dist(bin10)]\n",
    "sns.distplot(distance)"
   ]
  },
  {
   "cell_type": "code",
   "execution_count": null,
   "metadata": {},
   "outputs": [],
   "source": []
  }
 ],
 "metadata": {
  "kernelspec": {
   "display_name": "Python 3",
   "language": "python",
   "name": "python3"
  },
  "language_info": {
   "codemirror_mode": {
    "name": "ipython",
    "version": 3
   },
   "file_extension": ".py",
   "mimetype": "text/x-python",
   "name": "python",
   "nbconvert_exporter": "python",
   "pygments_lexer": "ipython3",
   "version": "3.6.4"
  }
 },
 "nbformat": 4,
 "nbformat_minor": 2
}
